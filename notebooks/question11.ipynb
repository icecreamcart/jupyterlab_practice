{
 "cells": [
  {
   "cell_type": "markdown",
   "id": "7bca26f5-3548-49e1-aab8-10c53eb0a43d",
   "metadata": {},
   "source": [
    "# Naomi Liu\n",
    "Notebook for assignment 7"
   ]
  },
  {
   "cell_type": "code",
   "execution_count": 1,
   "id": "9d6b6c3c-0bc9-4d0a-bd74-3667296c2663",
   "metadata": {},
   "outputs": [
    {
     "name": "stdout",
     "output_type": "stream",
     "text": [
      "5.0\n"
     ]
    }
   ],
   "source": [
    "# create a function 'compute_mean' \n",
    "def compute_mean(values):\n",
    "    mean = sum(values) / len(values)\n",
    "    print(mean)\n",
    "\n",
    "# Calling the function with list provided in Assignment 7, Q11, req2. \n",
    "compute_mean([2, 4, 6, 8])"
   ]
  },
  {
   "cell_type": "markdown",
   "id": "b2820ec4-18b1-4f68-b58d-9bed9a9bf869",
   "metadata": {},
   "source": [
    "$$ \\text{mean} = \\frac{\\sum(\\text{values})}{\\text{len(values)}} $$"
   ]
  },
  {
   "cell_type": "markdown",
   "id": "6c2be518-0291-463e-a8fc-eb4fb2215379",
   "metadata": {},
   "source": [
    "The mean is calculated as the sum of all values in a given set divided by the number of values in the set. Where values in the set are represented as _`x`_, and there are _`n`_ number of values. \n",
    "\n",
    "$$ \\bar{x} = \\frac{x_1 + x_2 + \\ldots + x_n}{n} = \\frac{1}{n} \\left( \\sum_{i=1}^n x_i \\right) $$"
   ]
  }
 ],
 "metadata": {
  "kernelspec": {
   "display_name": "Python 3 (ipykernel)",
   "language": "python",
   "name": "python3"
  },
  "language_info": {
   "codemirror_mode": {
    "name": "ipython",
    "version": 3
   },
   "file_extension": ".py",
   "mimetype": "text/x-python",
   "name": "python",
   "nbconvert_exporter": "python",
   "pygments_lexer": "ipython3",
   "version": "3.12.2"
  }
 },
 "nbformat": 4,
 "nbformat_minor": 5
}
